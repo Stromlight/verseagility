{
 "cells": [
  {
   "cell_type": "markdown",
   "source": [
    "# Language Detection\n",
    "\n",
    "For further pre-processing you can filter by language."
   ],
   "metadata": {}
  },
  {
   "cell_type": "markdown",
   "source": [
    "### Package Dependencies"
   ],
   "metadata": {}
  },
  {
   "cell_type": "code",
   "execution_count": null,
   "source": [
    "# !pip install langdetect"
   ],
   "outputs": [],
   "metadata": {}
  },
  {
   "cell_type": "code",
   "execution_count": 1,
   "source": [
    "import langdetect"
   ],
   "outputs": [],
   "metadata": {}
  },
  {
   "cell_type": "code",
   "execution_count": null,
   "source": [
    "# Custom Functions\r\n",
    "import sys\r\n",
    "sys.path.append('../src')\r\n",
    "import data as dt\r\n",
    "import prepare as pr\r\n",
    "import helper as he"
   ],
   "outputs": [],
   "metadata": {}
  },
  {
   "cell_type": "code",
   "execution_count": null,
   "source": [
    "%load_ext autoreload\r\n",
    "%autoreload 2"
   ],
   "outputs": [],
   "metadata": {}
  },
  {
   "cell_type": "markdown",
   "source": [
    "### Detect Language"
   ],
   "metadata": {}
  },
  {
   "cell_type": "code",
   "execution_count": null,
   "source": [
    "def detect_language(text, min_len=4):\r\n",
    "    if len(text.split()) > min_len: \r\n",
    "        try:\r\n",
    "            language = langdetect(text)\r\n",
    "        except:\r\n",
    "            language = \"none\"\r\n",
    "    else:\r\n",
    "        # Catch for short bodies\r\n",
    "        language = \"de\"\r\n",
    "    return language"
   ],
   "outputs": [],
   "metadata": {}
  },
  {
   "cell_type": "code",
   "execution_count": 2,
   "source": [
    "#TODO: load data\r\n",
    "data['language'] = data.text.apply(detect_language)"
   ],
   "outputs": [],
   "metadata": {}
  }
 ],
 "metadata": {
  "kernelspec": {
   "display_name": "Python 3",
   "language": "python",
   "name": "python3"
  },
  "language_info": {
   "codemirror_mode": {
    "name": "ipython",
    "version": 3
   },
   "file_extension": ".py",
   "mimetype": "text/x-python",
   "name": "python",
   "nbconvert_exporter": "python",
   "pygments_lexer": "ipython3",
   "version": "3.7.7"
  }
 },
 "nbformat": 4,
 "nbformat_minor": 4
}