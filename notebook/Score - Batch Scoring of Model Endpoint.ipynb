{
 "cells": [
  {
   "cell_type": "markdown",
   "source": [
    "# Verseagility - Score Model\n",
    "- A script to batch-score your endpoint after the deployment.\n",
    "- Set your endpoint and keys in the function below\n",
    "- Read your test data set which has a \"label\" column for the ground truth and a \"text\" column with the document to be scored"
   ],
   "metadata": {}
  },
  {
   "cell_type": "code",
   "execution_count": null,
   "source": [
    "# Import packages\r\n",
    "import requests\r\n",
    "import pandas as pd\r\n",
    "import json\r\n",
    "from sklearn.metrics import classification_report\r\n",
    "from sklearn.metrics import accuracy_score\r\n",
    "from sklearn.metrics import confusion_matrix"
   ],
   "outputs": [],
   "metadata": {}
  },
  {
   "cell_type": "code",
   "execution_count": null,
   "source": [
    "# Change this to your format respectively\r\n",
    "df_test = pd.read_csv(\"file.csv\", sep=\";\", encoding=\"utf-8\")"
   ],
   "outputs": [],
   "metadata": {}
  },
  {
   "cell_type": "code",
   "execution_count": null,
   "source": [
    "# Endpoint settings\r\n",
    "endpoint = '[YOUR URL GOES HERE]'\r\n",
    "region = '[YOUR REGION GOES HERE]'\r\n",
    "key = '[YOUR KEY GOES HERE]'"
   ],
   "outputs": [],
   "metadata": {}
  },
  {
   "cell_type": "code",
   "execution_count": null,
   "source": [
    "# Model scoring function\r\n",
    "def score_model(df, endpoint, region, key):\r\n",
    "    # URL for the web service\r\n",
    "    scoring_uri = f'http://{endpoint}.{region}.azurecontainer.io/score'\r\n",
    "    # Set the content type\r\n",
    "    headers = {'Content-Type': 'application/json'}\r\n",
    "    # If authentication is enabled, set the authorization header\r\n",
    "    headers['Authorization'] = f'Bearer {key}'\r\n",
    "    scores = []\r\n",
    "    # Iterate\r\n",
    "    for index, row in df.iterrows():\r\n",
    "        data = [{\r\n",
    "            \"subject\": \"\",\r\n",
    "            \"body\": str(row['text'].replace(\"'\", \"\").replace('\"', ''))\r\n",
    "        }]\r\n",
    "        # Convert to JSON string\r\n",
    "        input_data = json.dumps(data)\r\n",
    "        # Make the request and display the response\r\n",
    "        resp = requests.post(scoring_uri, input_data, headers=headers)\r\n",
    "        try:\r\n",
    "            pred = json.loads(resp.text)[0]['result'][0]['category']\r\n",
    "        except:\r\n",
    "            pred = \"None\"\r\n",
    "        scores.append(pred)\r\n",
    "        print(f'[INFO] - SCORING {str(index+1)}/{len(df)} -> \"{row[\"label\"]}\" predicted as \"{pred}\"')\r\n",
    "    return scores"
   ],
   "outputs": [],
   "metadata": {}
  },
  {
   "cell_type": "code",
   "execution_count": null,
   "source": [
    "# Initiate the scoring\r\n",
    "scores = score_model(df_test, endpoint, region, key)"
   ],
   "outputs": [],
   "metadata": {}
  },
  {
   "cell_type": "code",
   "execution_count": null,
   "source": [
    "# Get your classification reports after scoring\r\n",
    "print(classification_report(df_test['label'], scores))\r\n",
    "print(confusion_matrix(df_test['label'], scores))\r\n",
    "print(f\"Accuracy: {accuracy_score(df_test['label'], scores)}\")"
   ],
   "outputs": [],
   "metadata": {
    "scrolled": true
   }
  },
  {
   "cell_type": "code",
   "execution_count": null,
   "source": [
    "# Write output to file\r\n",
    "scores.to_csv(\"scoring.csv\", sep=\";\")"
   ],
   "outputs": [],
   "metadata": {}
  }
 ],
 "metadata": {
  "kernelspec": {
   "display_name": "azureml_py36_automl",
   "language": "python",
   "name": "conda-env-azureml_py36_automl-py"
  },
  "language_info": {
   "codemirror_mode": {
    "name": "ipython",
    "version": 3
   },
   "file_extension": ".py",
   "mimetype": "text/x-python",
   "name": "python",
   "nbconvert_exporter": "python",
   "pygments_lexer": "ipython3",
   "version": "3.6.9"
  }
 },
 "nbformat": 4,
 "nbformat_minor": 2
}